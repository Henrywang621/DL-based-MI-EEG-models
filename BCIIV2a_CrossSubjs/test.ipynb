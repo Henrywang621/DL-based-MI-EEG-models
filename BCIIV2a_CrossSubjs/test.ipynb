{
 "cells": [
  {
   "cell_type": "code",
   "execution_count": 26,
   "metadata": {},
   "outputs": [
    {
     "name": "stdout",
     "output_type": "stream",
     "text": [
      "[[2.5520e+01 2.5600e-01 5.0000e-01 7.0000e-03]\n",
      " [2.5690e+01 2.5500e-01 5.1600e-01 9.0000e-03]\n",
      " [2.6740e+01 2.6700e-01 5.0400e-01 2.3000e-02]\n",
      " [2.6560e+01 2.6400e-01 5.0200e-01 2.1000e-02]\n",
      " [2.5170e+01 2.5200e-01 5.0900e-01 2.0000e-03]\n",
      " [2.5936e+01 2.5900e-01 5.0600e-01 1.2000e-02]]\n"
     ]
    }
   ],
   "source": [
    "import numpy as np\n",
    "\n",
    "# r = np.load('Checkpoints/results_EEGNet_4_2.npy')\n",
    "# r = np.load('Checkpoints/results_EEGNet_8_2.npy')\n",
    "# r = np.load('Checkpoints/results_CLSTM.npy')\n",
    "# r = np.load('Checkpoints/results_DC.npy')\n",
    "# r = np.load('Checkpoints/results_SC.npy')\n",
    "# r = np.load('Checkpoints/results_SEFFNet.npy')\n",
    "# r = np.load('Checkpoints4/results_PGCFMTL1.npy')\n",
    "# r2 = np.load('Checkpoints5/results_PGCFMTL1.npy')\n",
    "# r3 = np.load('Checkpoints6/results_PGCFMTL1.npy')\n",
    "# r1 = np.load('Checkpoints/results_PGCFMTL1.npy')\n",
    "# r = np.load('Checkpoints/results_Min2Net.npy')\n",
    "# r = np.load('Checkpoints/results_EEGfusion.npy')\n",
    "# r = np.load('Checkpoints/results_LSTM.npy')\n",
    "r = np.load('Checkpoints/results_pCNN.npy')\n",
    "print(r)\n",
    "# print(r.shape)\n",
    "# print(r1)\n",
    "# print(r2)\n",
    "# print(r3)"
   ]
  },
  {
   "cell_type": "code",
   "execution_count": 27,
   "metadata": {},
   "outputs": [
    {
     "name": "stdout",
     "output_type": "stream",
     "text": [
      "0.6092815441156892\n",
      "0.005706137047074847\n",
      "0.005741080037762934\n",
      "0.008187795796183488\n"
     ]
    }
   ],
   "source": [
    "print(np.std(r[:5, 0]))\n",
    "print(np.std(r[:5, 1]))\n",
    "print(np.std(r[:5, 2]))\n",
    "print(np.std(r[:5, 3]))"
   ]
  },
  {
   "cell_type": "code",
   "execution_count": 11,
   "metadata": {},
   "outputs": [
    {
     "name": "stdout",
     "output_type": "stream",
     "text": [
      "[35.07 48.   56.51 28.73 42.1 ]\n"
     ]
    }
   ],
   "source": [
    "print(r[:5, 0])"
   ]
  },
  {
   "cell_type": "code",
   "execution_count": 8,
   "metadata": {},
   "outputs": [
    {
     "data": {
      "text/plain": [
       "56.51"
      ]
     },
     "execution_count": 8,
     "metadata": {},
     "output_type": "execute_result"
    }
   ],
   "source": [
    "r[2][0]"
   ]
  },
  {
   "cell_type": "code",
   "execution_count": 9,
   "metadata": {},
   "outputs": [],
   "source": [
    "from tensorflow.keras.models import load_model   \n",
    "from sklearn.metrics import f1_score, cohen_kappa_score, roc_auc_score \n",
    "from utils import *\n",
    "import mne\n",
    "\n",
    "results = np.zeros((6, 4))\n",
    "random_seeds = [6, 16, 66, 88, 166]\n",
    "save_path = '/home/henrywang/testEEGModels/BCIIV2a/data/'\n",
    "\n",
    "\n",
    "for i in range(5):\n",
    "    _, _, subjs_te = split_datasets(seed=random_seeds[i])\n",
    "    data_X_te = [mne.filter.resample(np.load(save_path+'S{0}_X.npy'.format(i)), down = 1.5625, npad='auto') for i in subjs_te]\n",
    "    data_teX_c = np.vstack(data_X_te)\n",
    "    data_y_te = [onehot_labels(np.load(save_path+'S{0}_y.npy'.format(i)).reshape(-1, 1)) for i in subjs_te]\n",
    "    data_teY_c = np.vstack(data_y_te)\n",
    "    data_teX_c = std(data_teX_c)\n",
    "    data_teX_c = np.expand_dims(data_teX_c, axis = -1)\n",
    "    model = load_model('Checkpoints/EEGNet_8_2-{0}.hdf5'.format(i+1))  \n",
    "    y_pred_prob = model.predict(data_teX_c)\n",
    "    y_pred = np.argmax(y_pred_prob, axis = 1)\n",
    "    y_true = np.argmax(data_teY_c, axis = 1)\n",
    "    acc = 100 * np.mean(y_true  == y_pred)\n",
    "    f1 = f1_score(y_true, y_pred, average='macro') \n",
    "    auc = roc_auc_score(y_true, y_pred_prob, multi_class ='ovr', average='macro')\n",
    "    kappa = cohen_kappa_score(y_true, y_pred) \n",
    "    results[i, 0] = round(acc, 2)\n",
    "    results[i, 1] = round(f1, 3)\n",
    "    results[i, 2] = round(auc, 3)\n",
    "    results[i, 3] = round(kappa, 3)\n",
    "results[5, :] = np.round(np.mean(results[:-1], axis = 0), decimals = 3)    "
   ]
  },
  {
   "cell_type": "code",
   "execution_count": 10,
   "metadata": {},
   "outputs": [],
   "source": [
    "np.save('Checkpoints/results_EEGNet_8_2.npy', results)"
   ]
  },
  {
   "cell_type": "code",
   "execution_count": 11,
   "metadata": {},
   "outputs": [
    {
     "data": {
      "text/plain": [
       "array([[49.22 ,  0.489,  0.744,  0.323],\n",
       "       [46.27 ,  0.463,  0.714,  0.284],\n",
       "       [42.97 ,  0.424,  0.702,  0.24 ],\n",
       "       [48.96 ,  0.489,  0.73 ,  0.319],\n",
       "       [36.89 ,  0.36 ,  0.647,  0.159],\n",
       "       [44.862,  0.445,  0.707,  0.265]])"
      ]
     },
     "execution_count": 11,
     "metadata": {},
     "output_type": "execute_result"
    }
   ],
   "source": [
    "results"
   ]
  },
  {
   "cell_type": "code",
   "execution_count": 12,
   "metadata": {},
   "outputs": [
    {
     "name": "stdout",
     "output_type": "stream",
     "text": [
      "4.5804078421031456\n",
      "0.04870728898224577\n",
      "0.03338023367204009\n",
      "0.060830913193868796\n"
     ]
    }
   ],
   "source": [
    "print(np.std(results[:5, 0]))\n",
    "print(np.std(results[:5, 1]))\n",
    "print(np.std(results[:5, 2]))\n",
    "print(np.std(results[:5, 3]))"
   ]
  },
  {
   "cell_type": "code",
   "execution_count": 18,
   "metadata": {},
   "outputs": [
    {
     "ename": "ValueError",
     "evalue": "multi_class must be in ('ovo', 'ovr')",
     "output_type": "error",
     "traceback": [
      "\u001b[0;31m---------------------------------------------------------------------------\u001b[0m",
      "\u001b[0;31mValueError\u001b[0m                                Traceback (most recent call last)",
      "\u001b[0;32m/tmp/ipykernel_1521799/242180343.py\u001b[0m in \u001b[0;36m<module>\u001b[0;34m\u001b[0m\n\u001b[1;32m     78\u001b[0m     \u001b[0macc\u001b[0m \u001b[0;34m=\u001b[0m \u001b[0;36m100\u001b[0m \u001b[0;34m*\u001b[0m \u001b[0mnp\u001b[0m\u001b[0;34m.\u001b[0m\u001b[0mmean\u001b[0m\u001b[0;34m(\u001b[0m\u001b[0my_true\u001b[0m  \u001b[0;34m==\u001b[0m \u001b[0my_pred\u001b[0m\u001b[0;34m)\u001b[0m\u001b[0;34m\u001b[0m\u001b[0;34m\u001b[0m\u001b[0m\n\u001b[1;32m     79\u001b[0m     \u001b[0mf1\u001b[0m \u001b[0;34m=\u001b[0m \u001b[0mf1_score\u001b[0m\u001b[0;34m(\u001b[0m\u001b[0my_true\u001b[0m\u001b[0;34m,\u001b[0m \u001b[0my_pred\u001b[0m\u001b[0;34m,\u001b[0m \u001b[0maverage\u001b[0m\u001b[0;34m=\u001b[0m\u001b[0;34m'macro'\u001b[0m\u001b[0;34m)\u001b[0m\u001b[0;34m\u001b[0m\u001b[0;34m\u001b[0m\u001b[0m\n\u001b[0;32m---> 80\u001b[0;31m     \u001b[0mauc\u001b[0m \u001b[0;34m=\u001b[0m \u001b[0mroc_auc_score\u001b[0m\u001b[0;34m(\u001b[0m\u001b[0my_true\u001b[0m\u001b[0;34m,\u001b[0m \u001b[0my_pred_prob\u001b[0m\u001b[0;34m,\u001b[0m \u001b[0maverage\u001b[0m\u001b[0;34m=\u001b[0m\u001b[0;34m'macro'\u001b[0m\u001b[0;34m)\u001b[0m\u001b[0;34m\u001b[0m\u001b[0;34m\u001b[0m\u001b[0m\n\u001b[0m\u001b[1;32m     81\u001b[0m     \u001b[0mkappa\u001b[0m \u001b[0;34m=\u001b[0m \u001b[0mcohen_kappa_score\u001b[0m\u001b[0;34m(\u001b[0m\u001b[0my_true\u001b[0m\u001b[0;34m,\u001b[0m \u001b[0my_pred\u001b[0m\u001b[0;34m)\u001b[0m\u001b[0;34m\u001b[0m\u001b[0;34m\u001b[0m\u001b[0m\n\u001b[1;32m     82\u001b[0m     \u001b[0mresults\u001b[0m\u001b[0;34m[\u001b[0m\u001b[0mi\u001b[0m\u001b[0;34m,\u001b[0m \u001b[0;36m0\u001b[0m\u001b[0;34m]\u001b[0m \u001b[0;34m=\u001b[0m \u001b[0mround\u001b[0m\u001b[0;34m(\u001b[0m\u001b[0macc\u001b[0m\u001b[0;34m,\u001b[0m \u001b[0;36m2\u001b[0m\u001b[0;34m)\u001b[0m\u001b[0;34m\u001b[0m\u001b[0;34m\u001b[0m\u001b[0m\n",
      "\u001b[0;32m~/anaconda3/envs/tf-gpu/lib/python3.9/site-packages/sklearn/metrics/_ranking.py\u001b[0m in \u001b[0;36mroc_auc_score\u001b[0;34m(y_true, y_score, average, sample_weight, max_fpr, multi_class, labels)\u001b[0m\n\u001b[1;32m    557\u001b[0m             )\n\u001b[1;32m    558\u001b[0m         \u001b[0;32mif\u001b[0m \u001b[0mmulti_class\u001b[0m \u001b[0;34m==\u001b[0m \u001b[0;34m\"raise\"\u001b[0m\u001b[0;34m:\u001b[0m\u001b[0;34m\u001b[0m\u001b[0;34m\u001b[0m\u001b[0m\n\u001b[0;32m--> 559\u001b[0;31m             \u001b[0;32mraise\u001b[0m \u001b[0mValueError\u001b[0m\u001b[0;34m(\u001b[0m\u001b[0;34m\"multi_class must be in ('ovo', 'ovr')\"\u001b[0m\u001b[0;34m)\u001b[0m\u001b[0;34m\u001b[0m\u001b[0;34m\u001b[0m\u001b[0m\n\u001b[0m\u001b[1;32m    560\u001b[0m         return _multiclass_roc_auc_score(\n\u001b[1;32m    561\u001b[0m             \u001b[0my_true\u001b[0m\u001b[0;34m,\u001b[0m \u001b[0my_score\u001b[0m\u001b[0;34m,\u001b[0m \u001b[0mlabels\u001b[0m\u001b[0;34m,\u001b[0m \u001b[0mmulti_class\u001b[0m\u001b[0;34m,\u001b[0m \u001b[0maverage\u001b[0m\u001b[0;34m,\u001b[0m \u001b[0msample_weight\u001b[0m\u001b[0;34m\u001b[0m\u001b[0;34m\u001b[0m\u001b[0m\n",
      "\u001b[0;31mValueError\u001b[0m: multi_class must be in ('ovo', 'ovr')"
     ]
    },
    {
     "ename": "",
     "evalue": "",
     "output_type": "error",
     "traceback": [
      "\u001b[1;31mThe Kernel crashed while executing code in the the current cell or a previous cell. Please review the code in the cell(s) to identify a possible cause of the failure. Click <a href='https://aka.ms/vscodeJupyterKernelCrash'>here</a> for more info. View Jupyter <a href='command:jupyter.viewOutput'>log</a> for further details."
     ]
    }
   ],
   "source": [
    "from tensorflow.keras.models import load_model   \n",
    "from sklearn.metrics import f1_score, cohen_kappa_score, roc_auc_score \n",
    "from utils import *\n",
    "import mne\n",
    "\n",
    "\n",
    "class gatemodule(Layer):\n",
    "\n",
    "    def __init__(self, features_shape=48, **kwargs):\n",
    "        super(gatemodule, self).__init__()\n",
    "        self.shape = features_shape\n",
    "\n",
    "    def build(self, input_shape):\n",
    "\n",
    "\n",
    "        self.W1_f = self.add_weight(shape=(self.shape*2, self.shape),\n",
    "                                   initializer='glorot_uniform',\n",
    "                                   trainable=True,\n",
    "                                   name='W1_f')\n",
    "        \n",
    "        self.b1_f = self.add_weight(shape=(self.shape,),\n",
    "                                        initializer='zeros',\n",
    "                                        trainable=True,\n",
    "                                        name='b1_f')\n",
    "        self.W2_f = self.add_weight(shape=(self.shape*2, self.shape),\n",
    "                                   initializer='glorot_uniform',\n",
    "                                   trainable=True,\n",
    "                                   name='W2_f')\n",
    "        \n",
    "        self.b2_f = self.add_weight(shape=(self.shape,),\n",
    "                                        initializer='zeros',\n",
    "                                        trainable=True,\n",
    "                                        name='b2_f')\n",
    "        self.W3_f = self.add_weight(shape=(self.shape*2, self.shape),\n",
    "                                   initializer='glorot_uniform',\n",
    "                                   trainable=True,\n",
    "                                   name='W3_f')\n",
    "        \n",
    "        self.b3_f = self.add_weight(shape=(self.shape,),\n",
    "                                        initializer='zeros',\n",
    "                                        trainable=True,\n",
    "                                        name='b3_f')\n",
    "\n",
    "\n",
    "    def call(self, inputs):\n",
    "        input1, input2 = inputs\n",
    "        concat = tf.concat([input1, input2], axis=-1)\n",
    "        G1 = tf.nn.sigmoid(tf.matmul(concat, self.W1_f) + self.b1_f)\n",
    "        G2 = tf.nn.sigmoid(tf.matmul(concat, self.W2_f) + self.b2_f)\n",
    "        G3 = tf.nn.sigmoid(tf.matmul(concat, self.W3_f) + self.b3_f)\n",
    "        Gated_out1 = G1*input1+G2*input2\n",
    "        Gated_out2 = (1-G3)*input1+input2\n",
    "\n",
    "\n",
    "        return Gated_out1, Gated_out2\n",
    "\n",
    "def mse_segmentation_loss(y_true, y_pred):\n",
    "    return tf.reduce_mean(tf.square(y_true - y_pred))\n",
    "\n",
    "results = np.zeros((6, 4))\n",
    "random_seeds = [6, 16, 66, 88, 166]\n",
    "save_path = '/home/henrywang/testEEGModels/BCIIV2a/data/'\n",
    "\n",
    "\n",
    "for i in range(5):\n",
    "    _, _, subjs_te = split_datasets(seed=random_seeds[i])\n",
    "    data_X_te = [mne.filter.resample(np.load(save_path+'S{0}_X.npy'.format(i)), down = 1.171825, npad='auto') for i in subjs_te]\n",
    "    data_teX_c = np.vstack(data_X_te)\n",
    "    data_y_te = [onehot_labels(np.load(save_path+'S{0}_y.npy'.format(i)).reshape(-1, 1)) for i in subjs_te]\n",
    "    data_teY_c = np.vstack(data_y_te)\n",
    "    data_teX_c = std(data_teX_c)\n",
    "    data_teX_c = np.swapaxes(data_teX_c, 1, 2)\n",
    "    data_teX_c = np.expand_dims(data_teX_c, axis = -1)\n",
    "    model = load_model('Checkpoints/PGCFMTL-{0}.hdf5'.format(i+1), custom_objects={'gatemodule': gatemodule, 'mse_segmentation_loss': mse_segmentation_loss})  \n",
    "    _, y_pred_prob = model.predict([data_teX_c, data_teX_c])\n",
    "    y_pred = np.argmax(y_pred_prob, axis = 1)\n",
    "    y_true = np.argmax(data_teY_c, axis = 1)\n",
    "    acc = 100 * np.mean(y_true  == y_pred)\n",
    "    f1 = f1_score(y_true, y_pred, average='macro') \n",
    "    auc = roc_auc_score(y_true, y_pred_prob, multi_class ='ovr', average='macro')\n",
    "    kappa = cohen_kappa_score(y_true, y_pred) \n",
    "    results[i, 0] = round(acc, 2)\n",
    "    results[i, 1] = round(f1, 3)\n",
    "    results[i, 2] = round(auc, 3)\n",
    "    results[i, 3] = round(kappa, 3)\n",
    "results[5, :] = np.round(np.mean(results[:-1], axis = 0), decimals = 3)"
   ]
  },
  {
   "cell_type": "code",
   "execution_count": 12,
   "metadata": {},
   "outputs": [
    {
     "data": {
      "text/plain": [
       "1.088"
      ]
     },
     "execution_count": 12,
     "metadata": {},
     "output_type": "execute_result"
    }
   ],
   "source": [
    "1224/1125"
   ]
  },
  {
   "cell_type": "code",
   "execution_count": 13,
   "metadata": {},
   "outputs": [
    {
     "data": {
      "text/plain": [
       "153.0"
      ]
     },
     "execution_count": 13,
     "metadata": {},
     "output_type": "execute_result"
    }
   ],
   "source": [
    "1224/8"
   ]
  },
  {
   "cell_type": "code",
   "execution_count": null,
   "metadata": {},
   "outputs": [],
   "source": []
  }
 ],
 "metadata": {
  "language_info": {
   "name": "python"
  }
 },
 "nbformat": 4,
 "nbformat_minor": 2
}
